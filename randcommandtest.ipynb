{
 "cells": [
  {
   "cell_type": "code",
   "execution_count": null,
   "id": "222002dc-2e60-4800-8ed9-ecac445ae3e9",
   "metadata": {},
   "outputs": [
    {
     "name": "stdout",
     "output_type": "stream",
     "text": [
      "a\n"
     ]
    },
    {
     "ename": "KeyError",
     "evalue": "26",
     "output_type": "error",
     "traceback": [
      "\u001b[0;31m---------------------------------------------------------------------------\u001b[0m",
      "\u001b[0;31mKeyError\u001b[0m                                  Traceback (most recent call last)",
      "File \u001b[1;32m/Users/mac/Documents/vscode-repo/CipherAccessibility/randcommandtest.py:20\u001b[0m\n\u001b[1;32m     17\u001b[0m     \u001b[39mreturn\u001b[39;00m betterkey\n\u001b[1;32m     19\u001b[0m f \u001b[39m=\u001b[39m \u001b[39minput\u001b[39m(\u001b[39m\"\u001b[39m\u001b[39mstring: \u001b[39m\u001b[39m\"\u001b[39m)\n\u001b[0;32m---> 20\u001b[0m \u001b[39mprint\u001b[39m(keycorrector(f))\n\u001b[1;32m     22\u001b[0m s \u001b[39m=\u001b[39m \u001b[39m\"\u001b[39m\u001b[39mNeVweGSFNs. & R*h\u001b[39m\u001b[39m\"\u001b[39m\n\u001b[1;32m     23\u001b[0m \u001b[39mprint\u001b[39m(s)\n",
      "File \u001b[1;32m/Users/mac/Documents/vscode-repo/CipherAccessibility/randcommandtest.py:11\u001b[0m\n\u001b[1;32m      9\u001b[0m counter \u001b[39m=\u001b[39m \u001b[39m0\u001b[39m\n\u001b[1;32m     10\u001b[0m matcher \u001b[39m=\u001b[39m \u001b[39m0\u001b[39m\n\u001b[0;32m---> 11\u001b[0m \u001b[39mwhile\u001b[39;00m (oldkey[kharacter] \u001b[39m!=\u001b[39m alphadict[matcher]) \u001b[39mand\u001b[39;00m (counter \u001b[39m<\u001b[39m\u001b[39m=\u001b[39m \u001b[39m25\u001b[39m):\n\u001b[1;32m     12\u001b[0m     matcher \u001b[39m+\u001b[39m\u001b[39m=\u001b[39m \u001b[39m1\u001b[39m\n\u001b[1;32m     13\u001b[0m     counter \u001b[39m+\u001b[39m\u001b[39m=\u001b[39m \u001b[39m1\u001b[39m\n",
      "\u001b[0;31mKeyError\u001b[0m: 26"
     ]
    }
   ],
   "source": [
    "alphadict = {0: \"a\", 1: \"b\", 2: \"c\", 3: \"d\", 4: \"e\", 5: \"f\", 6: \"g\", 7: \"h\", 8: \"i\", 9: \"j\", 10: \"k\", 11: \"l\", 12: \"m\", 13: \"n\", 14: \"o\", 15: \"p\", 16: \"q\", 17: \"r\", 18: \"s\", 19: \"t\", 20: \"u\", 21: \"v\", 22: \"w\", 23: \"x\", 24: \"y\", 25: \"z\"}\n",
    "s = \"amiright\"\n",
    "print(s[0])\n",
    "def keycorrector(oldkey):\n",
    "    #Take out any non-letter characters in the key\n",
    "    kharacter = 0\n",
    "    betterkey = \"\"\n",
    "    for i in range(len(oldkey)):\n",
    "        counter = 0\n",
    "        matcher = 0\n",
    "        while (oldkey[kharacter] != alphadict[matcher]) and (counter <= 25):\n",
    "            matcher += 1\n",
    "            counter += 1\n",
    "        if counter != 26:\n",
    "            betterkey += alphadict[matcher]\n",
    "        kharacter += 1\n",
    "    return betterkey\n",
    "\n",
    "f = input(\"string: \")\n",
    "print(keycorrector(f))\n",
    "\n",
    "s = \"NeVweGSFNs. & R*h\"\n",
    "print(s)\n",
    "print(s.lower())"
   ]
  }
 ],
 "metadata": {
  "language_info": {
   "codemirror_mode": {
    "name": "ipython",
    "version": 3
   },
   "file_extension": ".py",
   "mimetype": "text/x-python",
   "name": "python",
   "nbconvert_exporter": "python",
   "pygments_lexer": "ipython3",
   "version": 3
  }
 },
 "nbformat": 4,
 "nbformat_minor": 2
}
